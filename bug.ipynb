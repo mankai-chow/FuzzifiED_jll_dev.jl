{
 "cells": [
  {
   "cell_type": "code",
   "execution_count": 1,
   "id": "9644585c-ec4a-4c79-9d21-3b9c36aa3346",
   "metadata": {},
   "outputs": [
    {
     "data": {
      "text/plain": [
       "2×2 Matrix{Int64}:\n",
       " 0  1\n",
       " 1  0"
      ]
     },
     "execution_count": 1,
     "metadata": {},
     "output_type": "execute_result"
    }
   ],
   "source": [
    "using FuzzifiED\n",
    "FuzzifiED.SilentStd = true\n",
    "FuzzifiED.ElementType = Float64\n",
    "≊(x, y) = abs(x - y) < eps(Float32)\n",
    "using LinearAlgebra\n",
    "using Optim\n",
    "using WignerSymbols\n",
    "using SpecialFunctions\n",
    "using PrettyTables\n",
    "using Plots\n",
    "using JLD2\n",
    "\n",
    "const σ1 = [  1  0 ;  0  0 ]\n",
    "const σ2 = [  0  0 ;  0  1 ]\n",
    "const σx = [  0  1 ;  1  0 ]"
   ]
  },
  {
   "cell_type": "markdown",
   "id": "bc9001e7-e03b-4999-bdbb-a0878691e878",
   "metadata": {},
   "source": [
    "# function"
   ]
  },
  {
   "cell_type": "code",
   "execution_count": 2,
   "id": "5dc67d8d-6209-47aa-b3cb-7d106405d3d4",
   "metadata": {},
   "outputs": [
    {
     "data": {
      "text/plain": [
       "scalar_nn (generic function with 1 method)"
      ]
     },
     "execution_count": 2,
     "metadata": {},
     "output_type": "execute_result"
    }
   ],
   "source": [
    "function my_pochhammer(x, n)\n",
    "    result = 1.0\n",
    "    for i in 0:n-1\n",
    "        result *= (x + i)\n",
    "    end\n",
    "    return result\n",
    "end\n",
    "\n",
    "function mymod(n, m)\n",
    "   return n - Int(floor(n/m))*m \n",
    "end\n",
    "\n",
    "function Delta(nm, l, m, mat; nf=2)\n",
    "    no = nf * nm\n",
    "    s = .5 * (nm - 1)\n",
    "    ne = div(no, 2)\n",
    "    tms = Vector{Term}(undef, 0)\n",
    "    for m1 = 0 : nm-1\n",
    "        m1r = m1 - s\n",
    "        m2r = m - (m1 - s)\n",
    "        m2 = m2r + s\n",
    "        if (m2r < -s - 0.01 || m2r > s + 0.01) continue end\n",
    "        for f1 = 1 : nf\n",
    "            # o1 = m1 + 1 + (f1-1)*nm\n",
    "            o1 = m1 * nf + f1\n",
    "            for f2 = 1 : nf\n",
    "                o2 = m2*nf + f2\n",
    "                \n",
    "                val = (-1)^m * sqrt(2*l+1) * wigner3j(s, s, l, m1r, m2r, -m) * mat[f1, f2]\n",
    "                push!(tms, Term(val, [0, o1, 0, o2]))\n",
    "            end\n",
    "        end\n",
    "    end\n",
    "    \n",
    "    return tms\n",
    "end\n",
    "\n",
    "function fourF(nm, l, m, la, lb, mata, matb; nf=2)\n",
    "    # Here we add an extra (-1)^lb factor compared to the notes\n",
    "    tms = Vector{Term}(undef, 0)\n",
    "    for ma = -la : la\n",
    "        mb = ma - m\n",
    "        if (mb < -lb - 0.01 || mb > lb + 0.01) continue end\n",
    "        tms_temp1 = Delta(nm, la, ma, mata; nf=nf)\n",
    "        tms_temp2 = Delta(nm, lb, mb, matb; nf=nf)\n",
    "        val = (-1)^(lb+mb) * wigner3j(la, lb, l, ma, -mb, -m)\n",
    "        tms +=  SimplifyTerms(val * tms_temp1' * tms_temp2)\n",
    "        # tms +=  val * tms_temp1' * tms_temp2\n",
    "        \n",
    "    end\n",
    "    return SimplifyTerms(tms)\n",
    "end\n",
    "\n",
    "function nlm(nm, l, m, mat; nf=2)\n",
    "    # didn't include 1/sqrt(4pi)\n",
    "    no = nf * nm\n",
    "    s = .5 * (nm - 1)\n",
    "    ne = div(no, 2)\n",
    "    tms = Vector{Term}(undef, 0)\n",
    "    for m1 = 0 : nm-1\n",
    "        m1r = m1 - s\n",
    "        m2r = m1 - s - m\n",
    "        m2 = m2r + s\n",
    "        if (m2r < -s - 0.01 || m2r > s + 0.01) continue end\n",
    "#         @show m1, m2\n",
    "        for f1 = 1 : nf\n",
    "            o1 = m1 * nf + f1\n",
    "            for f2 = 1 : nf\n",
    "                o2 = m2*nf + f2\n",
    "                val = (2*s+1) * sqrt(2*l+1) * (-1)^(s+m1r) * wigner3j(s, s, l, m1r, -m2r, -m) * wigner3j(s, s, l, -s, s, 0) * mat[f1, f2]\n",
    "                push!(tms, Term(val, [1, o1, 0, o2]))\n",
    "            end            \n",
    "        end\n",
    "    end\n",
    "    return tms\n",
    "    \n",
    "end\n",
    "\n",
    "function scalar_nn(nm, l; mata=[1 0; 0 1], matb=[1 0; 0 1])\n",
    "    tempt = Term[]\n",
    "    for m in -l:l\n",
    "        tempt += wigner3j(l, l, 0, m, -m, 0) * nlm(nm, l, m, mata) * nlm(nm, l, -m, matb)\n",
    "    end\n",
    "    return SimplifyTerms(tempt)\n",
    "end"
   ]
  },
  {
   "cell_type": "code",
   "execution_count": 3,
   "id": "e9df89a0-f3ef-4ad0-97d7-efe5dd11f831",
   "metadata": {},
   "outputs": [
    {
     "data": {
      "text/plain": [
       "compute_state (generic function with 1 method)"
      ]
     },
     "execution_count": 3,
     "metadata": {},
     "output_type": "execute_result"
    }
   ],
   "source": [
    "function compute_state(nm)\n",
    "ps_pot = [4.75, 1.]\n",
    "# function cost(ps_pot)\n",
    "qnd = [ \n",
    "    GetNeQNDiag(2 * nm), \n",
    "    GetLz2QNDiag(nm, 2) ]\n",
    "qnf = [ \n",
    "    GetParityQNOffd(nm, 2, [2, 1], [-1, 1]), \n",
    "    GetFlavPermQNOffd(nm, 2, [2, 1]), \n",
    "    GetRotyQNOffd(nm, 2) ]\n",
    "\n",
    "tms_hmt = SimplifyTerms(\n",
    "    GetDenIntTerms(nm, 2, 0.5*ps_pot, [1 0; 0 1], [1 0; 0 1]) -\n",
    "    GetDenIntTerms(nm, 2, 0.5*ps_pot, [1 0; 0 -1], [1 0; 0 -1]) +\n",
    "#     GetDenIntTerms(nm, 2, 2 .* ps_pot, σ1, σ2) - \n",
    "    3.16 * GetPolTerms(nm, 2, σx) )\n",
    "tms_l2 = GetL2Terms(nm, 2)\n",
    "cfs = Confs(2 * nm, [nm, 0], qnd)\n",
    "\n",
    "result = []\n",
    "\n",
    "for P in [1], Z in [1, -1]\n",
    "    bs = Basis(cfs, [P, Z, 0], qnf)\n",
    "#     bs = Basis(cfs)\n",
    "    hmt = Operator(bs, tms_hmt)\n",
    "    hmt_mat = OpMat(hmt)\n",
    "    # hmt_mat_full = MatrixFromOpMat(hmt_mat)\n",
    "    # enrg, st = eigen(hmt_mat_full)\n",
    "    enrg, st = GetEigensystem(hmt_mat, 40)\n",
    "\n",
    "    l2 = Operator(bs, tms_l2)\n",
    "    l2_mat = OpMat(l2)\n",
    "    l2_val = [ st[:, i]' * l2_mat * st[:, i] for i in eachindex(enrg)]\n",
    "    \n",
    "    \n",
    "    for i in eachindex(enrg)\n",
    "        push!(result, [round.(real(enrg[i]), digits = 6), \n",
    "                round.(abs(real((sqrt(4*l2_val[i]+1)-1)/2)), digits = 6), P, Z, st[:,i]])\n",
    "    end\n",
    "end\n",
    "    \n",
    "sort!(result, by = st -> real(st[1]))\n",
    "enrg_0 = result[1][1]\n",
    "enrg_T = filter(st -> st[2] ≊ 2, result)[2][1]\n",
    "result_dim = [ [ 3 * (st[1] - enrg_0) / (enrg_T - enrg_0) ; st] for st in result ];\n",
    "\n",
    "return result_dim\n",
    "    \n",
    "end"
   ]
  },
  {
   "cell_type": "markdown",
   "id": "421702ae-ef1e-4f9e-b44b-7634be1f6bbf",
   "metadata": {},
   "source": [
    "# compute"
   ]
  },
  {
   "cell_type": "code",
   "execution_count": 4,
   "id": "caf0ec8d-bc11-4ec3-8c5b-ade2d10503b8",
   "metadata": {},
   "outputs": [],
   "source": [
    "nm = 12\n",
    "result = compute_state(nm);\n",
    "\n",
    "qnd = [ \n",
    "    GetNeQNDiag(2 * nm), \n",
    "    GetLz2QNDiag(nm, 2) ]\n",
    "qnf = [ \n",
    "    GetParityQNOffd(nm, 2, [2, 1], [-1, 1]), \n",
    "    GetFlavPermQNOffd(nm, 2, [2, 1]), \n",
    "    GetRotyQNOffd(nm, 2) ];\n",
    "\n",
    "cfs = Confs(2 * nm, [nm, 0], qnd)\n",
    "bs = Basis(cfs, [1, 1, 0], qnf)\n",
    "bs_odd = Basis(cfs, [1, -1, 0], qnf);"
   ]
  },
  {
   "cell_type": "code",
   "execution_count": 5,
   "id": "97d26d39-0e4e-4551-b43b-c422f4401bca",
   "metadata": {},
   "outputs": [
    {
     "data": {
      "text/plain": [
       "6-element Vector{Any}:\n",
       "   0.5236388387808408\n",
       " -16.510012\n",
       "   0.0\n",
       "   1\n",
       "  -1\n",
       "    [-4.9952840088774055e-8, 1.657242726831872e-8, 1.6572427273606212e-8, 3.8609743655177437e-19, 1.657242727158511e-8, -1.8114964207113248e-18, 3.1179497586047994e-18, -1.6572427272155923e-8, -5.7702147341632694e-8, 1.7536103394815396e-8  …  -0.029636600887532148, 0.06052448437833153, 0.01613105457259856, -0.02748032509901964, -0.03073899676087436, 0.05997288630412292, -0.030548437859166305, 0.05960570804828643, 0.059361650443709967, -0.138459166245873]"
      ]
     },
     "execution_count": 5,
     "metadata": {},
     "output_type": "execute_result"
    }
   ],
   "source": [
    "σ = result[2]"
   ]
  },
  {
   "cell_type": "code",
   "execution_count": 6,
   "id": "1c043b5c-f4ec-4bb9-8fef-48505eedb156",
   "metadata": {},
   "outputs": [
    {
     "name": "stdout",
     "output_type": "stream",
     "text": [
      "(run, temp' * temp) = (1, 70.23709002345281)\n",
      "(run, temp' * temp) = (2, 70.01470725959904)\n",
      "(run, temp' * temp) = (3, 80.77632501519597)\n",
      "(run, temp' * temp) = (4, 70.05104691426834)\n",
      "(run, temp' * temp) = (5, 70.17973722509427)\n",
      "(run, temp' * temp) = (6, 70.5480683839936)\n",
      "(run, temp' * temp) = (7, 70.05072620898575)\n",
      "(run, temp' * temp) = (8, 95.985607919884)\n",
      "(run, temp' * temp) = (9, 81.37720908111275)\n",
      "(run, temp' * temp) = (10, 80.09408111410258)\n",
      "(run, temp' * temp) = (11, 97375.06548598067)\n",
      "(run, temp' * temp) = (12, 71.2319896325936)\n",
      "(run, temp' * temp) = (13, 107.63099386264024)\n",
      "(run, temp' * temp) = (14, 71.20184681902388)\n",
      "(run, temp' * temp) = (15, 70.05104691426834)\n",
      "(run, temp' * temp) = (16, 70.17973722509427)\n",
      "(run, temp' * temp) = (17, 81.82163893717004)\n",
      "(run, temp' * temp) = (18, 117.32719008462155)\n",
      "(run, temp' * temp) = (19, 131.09272820192373)\n",
      "(run, temp' * temp) = (20, 77.85979867343649)\n"
     ]
    }
   ],
   "source": [
    "for run in 1:20\n",
    "    l=0\n",
    "    m=0\n",
    "    opterm = nlm(nm, l, m, [1 0; 0 -1]) - 0.2 * nlm(nm, l, m, [0 -1; 1 0])\n",
    "    bdag = OpMat(Operator(bs_odd, bs, SimplifyTerms(opterm'), sym_q=0))\n",
    "    temp = bdag * σ[6]\n",
    "    @show run, temp' * temp\n",
    "end"
   ]
  },
  {
   "cell_type": "code",
   "execution_count": 7,
   "id": "34a158e0-4f59-4bc4-84e3-fb77677f7ef9",
   "metadata": {},
   "outputs": [
    {
     "name": "stdout",
     "output_type": "stream",
     "text": [
      "(run, temp' * temp) = (1, 36.680227649942246)\n",
      "(run, temp' * temp) = (2, 36.680227649942246)\n",
      "(run, temp' * temp) = (3, 36.680227649942246)\n",
      "(run, temp' * temp) = (4, 36.680227649942246)\n",
      "(run, temp' * temp) = (5, 36.680227649942246)\n",
      "(run, temp' * temp) = (6, 36.680227649942246)\n",
      "(run, temp' * temp) = (7, 36.680227649942246)\n",
      "(run, temp' * temp) = (8, 36.680227649942246)\n",
      "(run, temp' * temp) = (9, 36.680227649942246)\n",
      "(run, temp' * temp) = (10, 36.680227649942246)\n",
      "(run, temp' * temp) = (11, 36.680227649942246)\n",
      "(run, temp' * temp) = (12, 36.680227649942246)\n",
      "(run, temp' * temp) = (13, 36.680227649942246)\n",
      "(run, temp' * temp) = (14, 36.680227649942246)\n",
      "(run, temp' * temp) = (15, 36.680227649942246)\n",
      "(run, temp' * temp) = (16, 36.680227649942246)\n",
      "(run, temp' * temp) = (17, 36.680227649942246)\n",
      "(run, temp' * temp) = (18, 36.680227649942246)\n",
      "(run, temp' * temp) = (19, 36.680227649942246)\n",
      "(run, temp' * temp) = (20, 36.680227649942246)\n"
     ]
    }
   ],
   "source": [
    "gs = result[1]\n",
    "for run in 1:20\n",
    "    l=0\n",
    "    m=0\n",
    "    opterm = nlm(nm, l, m, [1 0; 0 -1]) - 0.2 * nlm(nm, l, m, [0 -1; 1 0])\n",
    "    bdag = OpMat(Operator(bs, bs_odd, SimplifyTerms(opterm'), sym_q=0))\n",
    "    temp = bdag * gs[6]\n",
    "    @show run, temp' * temp\n",
    "end"
   ]
  },
  {
   "cell_type": "code",
   "execution_count": null,
   "id": "81ca921d-c407-447d-b3a3-d213e10314d0",
   "metadata": {},
   "outputs": [],
   "source": []
  }
 ],
 "metadata": {
  "kernelspec": {
   "display_name": "Julia 1.10.0",
   "language": "julia",
   "name": "julia-1.10"
  },
  "language_info": {
   "file_extension": ".jl",
   "mimetype": "application/julia",
   "name": "julia",
   "version": "1.10.0"
  }
 },
 "nbformat": 4,
 "nbformat_minor": 5
}
